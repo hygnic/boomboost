{
 "cells": [
  {
   "cell_type": "code",
   "execution_count": 5,
   "metadata": {
    "pycharm": {
     "name": "#%%\n"
    }
   },
   "outputs": [],
   "source": [
    "import networkx as nx\n",
    "import osmnx as ox\n"
   ]
  },
  {
   "cell_type": "code",
   "execution_count": null,
   "metadata": {
    "pycharm": {
     "name": "#%%\n"
    }
   },
   "outputs": [],
   "source": [
    "places = [\"Madrid, Spain\"]\n",
    "G = ox.graph_from_place(places,  retain_all=True, simplify = True, network_type='all')\n",
    "# G = ox.graph_from_place('Piedmont, California, USA', network_type='drive')"
   ]
  },
  {
   "cell_type": "code",
   "execution_count": null,
   "metadata": {},
   "outputs": [],
   "source": [
    "u = []\n",
    "v = []\n",
    "key = []\n",
    "data = []\n",
    "for uu, vv, kkey, ddata in G.edges(keys=True, data=True):\n",
    "    u.append(uu)\n",
    "    v.append(vv)\n",
    "    key.append(kkey)\n",
    "    data.append(ddata)    \n",
    "\n",
    "# List to store colors\n",
    "roadColors = []\n",
    "roadWidths = []\n",
    "\n",
    "for item in data:\n",
    "    if \"length\" in item.keys():\n",
    "        if item[\"length\"] <= 100:\n",
    "            linewidth = 0.10\n",
    "            color = \"#a6a6a6\" \n",
    "            \n",
    "        elif item[\"length\"] > 100 and item[\"length\"] <= 200:\n",
    "            linewidth = 0.15\n",
    "            color = \"#676767\"\n",
    "            \n",
    "        elif item[\"length\"] > 200 and item[\"length\"] <= 400:\n",
    "            linewidth = 0.25\n",
    "            color = \"#454545\"\n",
    "            \n",
    "        elif item[\"length\"] > 400 and item[\"length\"] <= 800:\n",
    "            color = \"#d5d5d5\"\n",
    "            linewidth = 0.35\n",
    "        else:\n",
    "            color = \"#ededed\"\n",
    "            linewidth = 0.45\n",
    "    else:\n",
    "        color = \"#a6a6a6\"\n",
    "        linewidth = 0.10\n",
    "            \n",
    "    roadColors.append(color)\n",
    "    roadWidths.append(linewidth)\n",
    "            \n",
    "\n",
    "# Center of map\n",
    "latitude = 40.4381311\n",
    "longitude = -3.8196194\n",
    "\n",
    "\n",
    "\n",
    "bgcolor = \"#061529\"\n",
    "\n",
    "fig, ax = ox.plot_graph(G, node_size=0,figsize=(27, 40), \n",
    "                        dpi = 300,bgcolor = bgcolor,\n",
    "                        save = False, edge_color=roadColors,\n",
    "                        edge_linewidth=roadWidths, edge_alpha=1)\n",
    "\n",
    "'''\n",
    "# Bbox sides\n",
    "north = latitude + 0.15\n",
    "south = latitude - 0.15\n",
    "east = longitude + 0.15\n",
    "west = longitude - 0.15\n",
    "\n",
    "fig, ax = ox.plot_graph(G, node_size=0, bbox = (north, south, east, west),\n",
    "                        dpi = 300,bgcolor = bgcolor,\n",
    "                        save = False, edge_color=roadColors,\n",
    "                        edge_linewidth=roadWidths, edge_alpha=1)\n",
    "\n",
    "'''\n",
    "\n",
    "fig.tight_layout(pad=0)\n",
    "fig.savefig(\"roadMap.png\", dpi=300, bbox_inches='tight', format=\"png\", facecolor=fig.get_facecolor(), transparent=False)\n",
    "\n"
   ]
  },
  {
   "cell_type": "code",
   "execution_count": null,
   "metadata": {},
   "outputs": [],
   "source": []
  }
 ],
 "metadata": {
  "kernelspec": {
   "display_name": "Python 3",
   "language": "python",
   "name": "python3"
  },
  "language_info": {
   "codemirror_mode": {
    "name": "ipython",
    "version": 3
   },
   "file_extension": ".py",
   "mimetype": "text/x-python",
   "name": "python",
   "nbconvert_exporter": "python",
   "pygments_lexer": "ipython3",
   "version": "3.7.9"
  }
 },
 "nbformat": 4,
 "nbformat_minor": 1
}
